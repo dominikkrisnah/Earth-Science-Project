{
  "nbformat": 4,
  "nbformat_minor": 0,
  "metadata": {
    "colab": {
      "provenance": []
    },
    "kernelspec": {
      "name": "python3",
      "display_name": "Python 3"
    },
    "language_info": {
      "name": "python"
    }
  },
  "cells": [
    {
      "cell_type": "markdown",
      "source": [
        "By: Dominikus Krisna Herlambang | ©2022"
      ],
      "metadata": {
        "id": "j49_vIoIzNq7"
      }
    },
    {
      "cell_type": "markdown",
      "source": [
        "Diffusion and advection are two fundamental processes that describe the movement of particles within a fluid or across a space. They may seem similar, but they have distinct characteristics:\n",
        "\n",
        "## Diffusion\n",
        "\n",
        "  - Process: Random movement of particles from areas of high concentration to areas of low concentration. Imagine tiny balls bouncing around in a box, spreading out over time.\n",
        "  -Driving Force: Particles bumping into each other due to their inherent thermal energy.\n",
        "  -Net Effect: Spreads and mixes particles over time, leading to a more uniform distribution.\n",
        "\n",
        "## Advection\n",
        "\n",
        "  - Process: Bulk movement of particles along with the flow of a fluid. Imagine riding a conveyor belt - you (the particle) are being carried along by the motion of the belt (the fluid).\n",
        "  - Driving Force: External force, such as pressure gradients or wind, that causes the fluid to move.\n",
        "  - Net Effect: Particles are transported in the direction of the flow, with little to no spreading.\n",
        "\n",
        "## Together: Convection-Diffusion Equation\n",
        "\n",
        "In many real-world scenarios, both diffusion and advection occur simultaneously. This combined phenomenon is described by the convection-diffusion equation, which is crucial in fields like fluid mechanics, heat transfer, and mass transport.\n",
        "\n",
        "Understanding the relative importance of each process helps us predict the movement of substances in various contexts. Here's a simple analogy:\n",
        "\n",
        "Imagine a drop of ink in a cup of still water (no advection). The ink will slowly spread outwards due to diffusion, eventually coloring the entire cup uniformly.\n",
        "\n",
        "Now, imagine stirring the water (advection). The ink will be carried along with the flow, forming streaks and swirls instead of a uniform distribution.\n",
        "\n",
        "The balance between diffusion and advection depends on a parameter called the Peclet number (Pe). If Pe is much greater than 1, advection dominates, and the substance is mainly transported by the flow. Conversely, if Pe is much less than 1, diffusion dominates, and the substance spreads out more evenly."
      ],
      "metadata": {
        "id": "QvsyqKphDAl-"
      }
    },
    {
      "cell_type": "markdown",
      "source": [
        "## This is an application of diffusion-advection: Modeling oil spills in waters"
      ],
      "metadata": {
        "id": "R_bwmzaCEH_2"
      }
    },
    {
      "cell_type": "code",
      "execution_count": null,
      "metadata": {
        "id": "3d8dz16Oe77G"
      },
      "outputs": [],
      "source": [
        "import matplotlib.pyplot as plt\n",
        "import numpy as np\n",
        "import sys"
      ]
    },
    {
      "cell_type": "code",
      "source": [
        "def percentage(part, whole):\n",
        "  percentage = 100 * float(part)/float(whole)\n",
        "  return str(round(percentage,2)) + \"X\""
      ],
      "metadata": {
        "id": "elb2Roe7WGLj"
      },
      "execution_count": null,
      "outputs": []
    },
    {
      "cell_type": "code",
      "source": [
        "# initial parameters\n",
        "C = 0.49 # Flow Rate\n",
        "ad = 1.49 # Diffusion Coefficient\n",
        "# current direction (based on Geographical Convention)\n",
        "theta = 49 # Scenario 1\n",
        "# advanced parameters\n",
        "q = 0.49 # Stability Criteria\n",
        "x = 300 # Number of Horizontal Grids (x)\n",
        "y = 300 # Number of Vertical Grids (y)\n",
        "dx = 3\n",
        "dy = 3\n",
        "Tend = 104 # Simulation Time\n",
        "#Tend = 1\n",
        "dt = 0.5\n",
        "# Pollutant\n",
        "px = 150 # Pollutants on grid x\n",
        "py = 134 # Pollutants on grid y\n",
        "Ic = 594 # Amount of Pollutants\n",
        "# U and V calculation ()\n",
        "u = C * np.sin(theta*np.pi/180)\n",
        "v = C * np.cos(theta*np.pi/180)\n",
        "dt_count = 1/((abs(u)/(q*dx))+(abs(v)/(q*dy))+(2*ad/(q*dx*2))+(2*ad/(q*dy*2)))"
      ],
      "metadata": {
        "id": "xiegqxl-WIeY"
      },
      "execution_count": null,
      "outputs": []
    },
    {
      "cell_type": "code",
      "source": [
        "Nx = int(x/dx) # Number of meshes in x direction\n",
        "Ny = int(y/dy) # Number of meshes in y direction\n",
        "Nt = int(Tend/dt) # Number of time steps\n",
        "# Pollutant Point Calculation at Discharge\n",
        "px1 = int(px/dx)\n",
        "py1 = int(py/dy)\n",
        "\n",
        "# Simplified function\n",
        "lx = u*dt/dx\n",
        "ly = v*dt/dy\n",
        "ax = ad*dt/dx**2\n",
        "ay = ad*dt/dy**2\n",
        "cfl = (2*ax + 2*ay + abs(lx) + abs(ly)) # CFL Stability Requirements"
      ],
      "metadata": {
        "id": "m7ssE1BMWOFr"
      },
      "execution_count": null,
      "outputs": []
    },
    {
      "cell_type": "code",
      "source": [
        "# CFL Calculation\n",
        "if cfl >= q:\n",
        "  print('CFL Violated, Please use dt :' + str(round(dt_count,4)))\n",
        "  sys.exit()\n",
        "#%%\n",
        "# Grid Creation\n",
        "x_grid = np.linspace(0-dx, x+dx, Nx+2)\n",
        "y_grid = np.linspace(0-dx, y+dy, Ny+2)\n",
        "t = np.linspace(0, Tend, Nt+1)\n",
        "x_mesh, y_mesh = np.meshgrid(x_grid,y_grid)\n",
        "F = np.zeros((Nt+1, Ny+2, Nx+2))\n",
        "# Initial Condition\n",
        "F[0,py1,px1] = Ic\n",
        "#%%\n",
        "# Iteration\n",
        "for n in range (0, Nt):\n",
        "  for i in range (1,Ny+1):\n",
        "    for j in range (1,Nx+1):\n",
        "      F[n+1,i,j]=((F[n,i,j]*(1-abs(lx)-abs(ly)))  + \\\n",
        "                  (0.5*(F[n,i-1,j]*(ly+abs(ly)))) + \\\n",
        "                  (0.5*(F[n,i+1,j]*(abs(ly)-ly))) + \\\n",
        "                  (0.5*(F[n,i,j-1]*(lx+abs(lx)))) + \\\n",
        "                  (0.5*(F[n,i,j+1]*(abs(lx)-lx))) + \\\n",
        "                  (ay*(F[n,i+1,j]-2*(F[n,i,j])+F[n,i-1,j])) + \\\n",
        "                  (ay*(F[n,i,j+1]-2*(F[n,i,j])+F[n,i,j-1]))) # Discretization\n",
        "  # Dirichlet Boundary Condition\n",
        "  F[n+1,0,:] = 0 # BC Bottom\n",
        "  F[n+1,:,0] = 0 # BC Left\n",
        "  F[n+1,Ny+1,:] = 0 # BC Top\n",
        "  F[n+1,:,Nx+1] = 0 # BC Right\n",
        "\n",
        "  # Picture Output\n",
        "  plt.clf()\n",
        "  plt.pcolor(x_mesh, y_mesh, F[n+1,:,:], cmap='hot_r', edgecolor='k')\n",
        "  cbar = plt.colorbar(orientation='vertical', shrink=0.95, extend='both')\n",
        "  cbar.set_label(label='Concentration', size=8)\n",
        "  #plt.clim(0,100)\n",
        "  plt.title('Oil Spill Model\\nt='+str(round(dt*(n+1),3))+', Initial Condition='+str(Ic))\n",
        "  plt.xlabel('x_grid',fontsize=11)\n",
        "  plt.ylabel('y_grid',fontsize=11)\n",
        "  plt.axis([0,x,0,y])\n",
        "  #plt.pause(0.01)\n",
        "  plt.savefig(str(n+1)+'.png', dpi=300)\n",
        "  plt.pause(0.01)\n",
        "  plt.close()\n",
        "  print('running timestep ke:' +str(n+1) + ' dari:' +str(Nt) + '('+ percentage(n+1,Nt)+')')\n",
        "  #print('Nilai CFL:' +str(cfl) + ' dengan arah:' +str(theta))"
      ],
      "metadata": {
        "id": "Xm-ecTKAfiOp"
      },
      "execution_count": null,
      "outputs": []
    }
  ]
}