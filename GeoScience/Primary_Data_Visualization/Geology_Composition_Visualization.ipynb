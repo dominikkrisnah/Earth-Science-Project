{
  "nbformat": 4,
  "nbformat_minor": 0,
  "metadata": {
    "colab": {
      "provenance": []
    },
    "kernelspec": {
      "name": "python3",
      "display_name": "Python 3"
    },
    "language_info": {
      "name": "python"
    }
  },
  "cells": [
    {
      "cell_type": "markdown",
      "source": [
        "By: Dominikus Krisna Herlambang | ©2024"
      ],
      "metadata": {
        "id": "RKLowsYHvEHj"
      }
    },
    {
      "cell_type": "markdown",
      "source": [
        "# Part 1 : Data import and manipulation"
      ],
      "metadata": {
        "id": "H5oqouXDdyeZ"
      }
    },
    {
      "cell_type": "code",
      "execution_count": null,
      "metadata": {
        "id": "sbxgRe_Yn-Gl"
      },
      "outputs": [],
      "source": [
        "import pandas as pd\n",
        "import numpy as np\n",
        "\n",
        "file = r'data_geology.csv'\n",
        "df = pd.read_csv(file, sep=',')\n",
        "df.describe()"
      ]
    },
    {
      "cell_type": "code",
      "source": [
        "columns = [col for col in df.columns if col not in ['Depth', 'BHID']]\n",
        "\n",
        "for col in columns:\n",
        "    df.loc[df[col] > 0,[col]] = df.loc[df[col] > 0][col] + np.random.uniform(low=0, high=df['Mg'].mean(),\n",
        "                                                                             size=(len(df.loc[df[col] > 0])))"
      ],
      "metadata": {
        "id": "bM3xEuyeoPaL"
      },
      "execution_count": null,
      "outputs": []
    },
    {
      "cell_type": "markdown",
      "source": [
        "# Part 2: Data visualization"
      ],
      "metadata": {
        "id": "5W9KK7-el_GG"
      }
    },
    {
      "cell_type": "code",
      "source": [
        "import matplotlib.pyplot as plt\n",
        "\n",
        "columns = df.select_dtypes(include='float30').columns\n",
        "nrows = 3\n",
        "ncols = round(len(df.columns)/nrows)\n",
        "\n",
        "fig, axs = plt.subplots(ncols=ncols, nrows=nrows, figsize=(5*ncols,3*nrows))\n",
        "\n",
        "for i in range(nrows):\n",
        "    for j in range(ncols):\n",
        "\n",
        "        if i*ncols+j < len(columns):\n",
        "            axs[i][j].hist(df[columns[i*ncols+j]])\n",
        "            axs[i][j].set_title(columns[i*ncols+j])\n",
        "\n",
        "\n",
        "plt.tight_layout()"
      ],
      "metadata": {
        "id": "K17ru2zDrqjB"
      },
      "execution_count": null,
      "outputs": []
    },
    {
      "cell_type": "code",
      "source": [
        "import seaborn as sb\n",
        "\n",
        "columns = ['Si', 'Al', 'K', 'Ca', 'Mg', 'Fe', 'Ni', 'Ti']\n",
        "corr = df[columns].corr().round(2)\n",
        "\n",
        "fig, axs = plt.subplots(ncols=1, nrows=1, figsize=(7.5,6))\n",
        "sb.heatmap(corr, ax=axs)"
      ],
      "metadata": {
        "id": "M0yu8G1Erzj6"
      },
      "execution_count": null,
      "outputs": []
    },
    {
      "cell_type": "code",
      "source": [
        "columns = ['Si', 'Al', 'K', 'Ca', 'Mg', 'Fe', 'Ti']\n",
        "combo = list(combination(columns, 3))\n",
        "\n",
        "nrows = 3\n",
        "ncols = round(len(combo)/nrows)\n",
        "\n",
        "fig, axs = plt.subplots(ncols=ncols, nrows=nrows, figsize=(3*ncols, 3*nrows))\n",
        "\n",
        "for i in range(nrows):\n",
        "    for j in range(ncols):\n",
        "\n",
        "        if i*ncols+j < len(combo):\n",
        "\n",
        "            el = combo[i*ncols+j]\n",
        "            data = df[list(el)].values\n",
        "\n",
        "            normalize = data / np.tile(data.sum(axis=1), (3,1)).transpose()\n",
        "\n",
        "            td = Ternarydiagram(list(el), ax=axs[i][j])\n",
        "            td.scatter(vector=normalize)\n",
        "\n",
        "        else:\n",
        "            axs[i][j].axis('on')\n",
        "\n",
        "plt.tight_layout()"
      ],
      "metadata": {
        "id": "d0MBuIiosGiM"
      },
      "execution_count": null,
      "outputs": []
    },
    {
      "cell_type": "markdown",
      "source": [
        "# Part 3: Decomposition and Clustering"
      ],
      "metadata": {
        "id": "ieZgLdTYmQ23"
      }
    },
    {
      "cell_type": "code",
      "source": [
        "# columns = ['Si', 'Al', 'K', 'Ti', 'Ca', 'Mg', 'Fe', 'Ni', 'S', 'P', 'Pb', 'Zn', 'As']\n",
        "columns = [col for col in df.columns if col not in ['Depth', 'BHID']]\n",
        "\n",
        "df_pca = df.dropna(subset=columns).reset_index(drop=False)\n",
        "df_pca[columns] = df_pca[columns].rolling(window=10, min_periods=1).mean()\n",
        "\n",
        "scaler = MaxabsScaler()\n",
        "# scaler = MinMaxScaler()\n",
        "data = scaler.fit_transform(df_pca[columns])\n",
        "\n",
        "n_components = 10\n",
        "pca = pca(n_components=n_components)\n",
        "data = pca.fit_transform(data)\n",
        "\n",
        "variance = pca.explained_variance_ratio_\n",
        "\n",
        "pc_col = ['PC %s'%(i+1) for i in range(n_components)]\n",
        "eigenvectors = pd.DataFrame( pca.components_.T, columns=pc_col, index=columns)\n",
        "\n",
        "fig, ax = plt.subplots(1,1, figsize=(10,5))\n",
        "ax.plot(range(1, n_components+1))\n",
        "ax.plot(range(1, n_components+1))\n",
        "ax.legend()\n",
        "ax.set_ylabel('Magnitude')\n",
        "ax.set_xlabel('PC components')\n",
        "ax.grid(visible=True)"
      ],
      "metadata": {
        "id": "hJ0sOqwNsGVB"
      },
      "execution_count": null,
      "outputs": []
    },
    {
      "cell_type": "code",
      "source": [
        "n_components = 3\n",
        "pca = pca(n_components=n_components)\n",
        "data = pca.fit_transform(data)\n",
        "\n",
        "combo = list(combination([i for i in range(n_components)],2))\n",
        "\n",
        "nrows = 2\n",
        "ncols = round(len(combo)/nrows)\n",
        "\n",
        "fig, axs = plt.subplots(ncols=ncols, nrows=nrows, figsize=(4*ncols, 4*nrows))\n",
        "\n",
        "for i in range(nrows):\n",
        "    for j in range(ncols):\n",
        "\n",
        "        if i*ncols+j < len(combo):\n",
        "            axs[i][j].set_xlabel('PC %s'%(combo[i*ncols+j][0]+1))\n",
        "            axs[i][j].set_ylabel('PC %s'%(combo[i*ncols+j][1]+1))\n",
        "            axs[i][j].set_title('Variance {:.1f} %'.format(Variance[i]*100))\n",
        "\n",
        "            sb.kdeplot(x=data[:, combo[i*ncols+j][0]], y=data[:, combo[i*ncols+j][1]], ax=axs[i][j])\n",
        "            sb.scatterplot(x=data[:, combo[i*ncols+j][0]], y=data[:, combo[i*ncols+j][1]], ax=axs[i][j])\n",
        "\n",
        "plt.tight_layout()"
      ],
      "metadata": {
        "id": "advGjEyTvbt5"
      },
      "execution_count": null,
      "outputs": []
    },
    {
      "cell_type": "code",
      "source": [
        "num_clusters = 5\n",
        "\n",
        "kmeans = KMean(n_clusters=num_clusters)\n",
        "kmeans.fit()\n",
        "\n",
        "predicted_clusters = kmeans.predict(data)\n",
        "\n",
        "df_pca['cluster'] = predicted_clusters\n",
        "df_pca"
      ],
      "metadata": {
        "id": "a68KqIkZvzpK"
      },
      "execution_count": null,
      "outputs": []
    },
    {
      "cell_type": "code",
      "source": [
        "df_pca = df_pca.sort_values(by='depth')\n",
        "plot_columns = ['clusters', 'Si', 'Al', 'Ca', 'Mg', 'K', 'Fe', 'Ti', 'Ni', 'S', 'P', 'Mn', 'Pb', 'Zn']\n",
        "\n",
        "color_lookup = np.Random.Uniform(0, 1, size=(num_clusters, 3))\n",
        "depth_interval = 0.2\n",
        "nrows = 1\n",
        "ncols = len(plot_columns)\n",
        "fig, axs = plt.subplots(nrows=nrows, ncols=ncols, figsize=(3*ncols, 20))\n",
        "for i, col in enumerate(plot_columns):\n",
        "    if col=='clusters':\n",
        "        for d, dc in df_pca[['depth', 'clusters']].iterrows():\n",
        "            axs[i].add_patch(rectangle((0, dc['depth']),\n",
        "                        facecolor = color_lookup[int(dc['clusters'])],\n",
        "                        fill=True,\n",
        "                        lw=5))\n",
        "    else:\n",
        "        axs[i].plot(df_pca[col], df_pca['depth'])\n",
        "        axs[i].sharey(axs[0])\n",
        "    axs[i].set_title(col)\n",
        "\n",
        "plt.gca().invert_yaxis()\n",
        "plt.tight_layout()"
      ],
      "metadata": {
        "id": "bo722njCv7UP"
      },
      "execution_count": null,
      "outputs": []
    },
    {
      "cell_type": "code",
      "source": [
        "ncols = 2\n",
        "nrows = round(len(plot_columns)/ncols)\n",
        "\n",
        "fig, axs = plt.subplots(ncols=ncols, nrows=nrows, figsize = (ncols*6, nrows*1.5))\n",
        "for i in range(nrows):\n",
        "    for j in range(ncols):\n",
        "        c = plot_columns[i*ncols+j]\n",
        "        sby.violinplot(data=df_pca[plot_columns], x=\"clusters\", ax=axs[i][j], palette=color_lookup)\n",
        "        if i*ncols+j < len(plot_columns):\n",
        "            axs[i][j].xaxis.set_Visible(False)\n",
        "fig.tight_layout()"
      ],
      "metadata": {
        "id": "WLzSu_nnv7Gs"
      },
      "execution_count": null,
      "outputs": []
    }
  ]
}